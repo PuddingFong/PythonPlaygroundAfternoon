{
 "cells": [
  {
   "cell_type": "markdown",
   "metadata": {},
   "source": [
    "# Swiss population data\n",
    "Source: wikipedia\n",
    "\n",
    "File: Data/populationSwitzerland.csv"
   ]
  },
  {
   "cell_type": "code",
   "execution_count": null,
   "metadata": {},
   "outputs": [],
   "source": [
    "# This is a worked example for SwissPopulationTemplate\n",
    "# Please have a go yourself at plotting the data before looking here."
   ]
  },
  {
   "cell_type": "code",
   "execution_count": null,
   "metadata": {},
   "outputs": [],
   "source": [
    "# Pandas is an open source library providing easy-to-use data structures and data analysis tools for Python.\n",
    "# Import library\n",
    "import pandas as pd"
   ]
  },
  {
   "cell_type": "code",
   "execution_count": null,
   "metadata": {},
   "outputs": [],
   "source": [
    "# File in Data folder, in comma separted values(csv) format\n",
    "file = \"Data/populationSwitzerland.csv\"\n",
    "# Read data from file\n",
    "data = pd.read_csv(file)"
   ]
  },
  {
   "cell_type": "code",
   "execution_count": null,
   "metadata": {},
   "outputs": [],
   "source": [
    "# Look at first few entries in data (head of file)\n",
    "data.head()"
   ]
  },
  {
   "cell_type": "code",
   "execution_count": null,
   "metadata": {},
   "outputs": [],
   "source": [
    "# Define column headings \n",
    "data.columns = ['Abbr','Canton','Population','Population Density','GDP']"
   ]
  },
  {
   "cell_type": "code",
   "execution_count": null,
   "metadata": {},
   "outputs": [],
   "source": [
    "# Set country as index\n",
    "data.set_index('Canton', inplace=True)"
   ]
  },
  {
   "cell_type": "code",
   "execution_count": null,
   "metadata": {},
   "outputs": [],
   "source": [
    "# Look at the effect of change of index\n",
    "data.head()"
   ]
  },
  {
   "cell_type": "code",
   "execution_count": null,
   "metadata": {},
   "outputs": [],
   "source": [
    "# Import plotting library matplotlib\n",
    "# Inline means your matplotlib graphs will be included in your notebook\n",
    "%matplotlib inline\n",
    "# Define runtime configuration (rc) parameters \n",
    "from matplotlib import rcParams\n",
    "rcParams['figure.figsize'] = 12, 6"
   ]
  },
  {
   "cell_type": "code",
   "execution_count": null,
   "metadata": {},
   "outputs": [],
   "source": [
    "# Give names to three slices of the data\n",
    "population = data['Population']\n",
    "density = data['Population Density']\n",
    "gdp = data['GDP']"
   ]
  },
  {
   "cell_type": "code",
   "execution_count": null,
   "metadata": {},
   "outputs": [],
   "source": [
    "# Plot bar graph of population per canton\n",
    "population.plot(kind = 'bar')"
   ]
  },
  {
   "cell_type": "code",
   "execution_count": null,
   "metadata": {},
   "outputs": [],
   "source": [
    "# Plot horizontal bar graph of population per canton\n",
    "population.plot(kind = 'barh')"
   ]
  },
  {
   "cell_type": "code",
   "execution_count": null,
   "metadata": {},
   "outputs": [],
   "source": [
    "# Plot bar graph of population density per canton\n",
    "density.plot(kind = 'bar')"
   ]
  },
  {
   "cell_type": "code",
   "execution_count": null,
   "metadata": {},
   "outputs": [],
   "source": [
    "# Plot bar graph of population density per canton\n",
    "# Give plot a name and set title and y-axis label\n",
    "bar_plot_density = density.plot.bar()\n",
    "bar_plot_density.set_title('Population density per canton')\n",
    "bar_plot_density.set_ylabel('Population density')\n"
   ]
  },
  {
   "cell_type": "code",
   "execution_count": null,
   "metadata": {},
   "outputs": [],
   "source": [
    "# Plot bar graph of GDP per canton\n",
    "# Give plot a name and set title and y-axis label\n",
    "# Plot in single colour\n",
    "bar_plot_density = gdp.plot.bar(color = 'hotpink')\n",
    "bar_plot_density.set_title('Population density per canton')\n",
    "bar_plot_density.set_ylabel('Population density')\n"
   ]
  },
  {
   "cell_type": "code",
   "execution_count": null,
   "metadata": {},
   "outputs": [],
   "source": [
    "# Sort data by Population density\n",
    "data.sort_values(by=['Population Density'] , ascending=False)"
   ]
  },
  {
   "cell_type": "code",
   "execution_count": null,
   "metadata": {},
   "outputs": [],
   "source": []
  },
  {
   "cell_type": "code",
   "execution_count": null,
   "metadata": {},
   "outputs": [],
   "source": []
  }
 ],
 "metadata": {
  "kernelspec": {
   "display_name": "Python 3",
   "language": "python",
   "name": "python3"
  },
  "language_info": {
   "codemirror_mode": {
    "name": "ipython",
    "version": 3
   },
   "file_extension": ".py",
   "mimetype": "text/x-python",
   "name": "python",
   "nbconvert_exporter": "python",
   "pygments_lexer": "ipython3",
   "version": "3.6.4"
  }
 },
 "nbformat": 4,
 "nbformat_minor": 2
}
