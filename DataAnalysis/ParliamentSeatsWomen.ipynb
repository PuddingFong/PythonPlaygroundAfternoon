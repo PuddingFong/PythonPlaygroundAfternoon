{
 "cells": [
  {
   "cell_type": "markdown",
   "metadata": {},
   "source": [
    "# Percentage of seats held by women in national parliament \n",
    "Data taken from https://data.humdata.org/\n",
    "\n",
    "File: Data/percentageWomenNationalParliament.csv"
   ]
  },
  {
   "cell_type": "code",
   "execution_count": null,
   "metadata": {},
   "outputs": [],
   "source": [
    "# Pandas is an open source library providing easy-to-use data structures and data analysis tools for Python.\n",
    "# Import library\n",
    "import pandas as pd"
   ]
  },
  {
   "cell_type": "code",
   "execution_count": null,
   "metadata": {},
   "outputs": [],
   "source": [
    "# File in Data folder, in comma separted values(csv) format\n",
    "file = \"Data/percentageWomenNationalParliament.csv\"\n",
    "# read data from file\n",
    "data = pd.read_csv(file)"
   ]
  },
  {
   "cell_type": "code",
   "execution_count": null,
   "metadata": {},
   "outputs": [],
   "source": [
    "# Look at data\n",
    "data"
   ]
  },
  {
   "cell_type": "code",
   "execution_count": null,
   "metadata": {},
   "outputs": [],
   "source": [
    "# Data consists of just 4 rows. 4 countries with values from 1997 to 2015"
   ]
  },
  {
   "cell_type": "code",
   "execution_count": null,
   "metadata": {},
   "outputs": [],
   "source": [
    "# Set country as index\n",
    "data.set_index('Country name', inplace=True)"
   ]
  },
  {
   "cell_type": "code",
   "execution_count": null,
   "metadata": {},
   "outputs": [],
   "source": [
    "# Look at data again. Notice now indexed by country name\n",
    "data"
   ]
  },
  {
   "cell_type": "code",
   "execution_count": null,
   "metadata": {},
   "outputs": [],
   "source": [
    "# Slice data according to country\n",
    "CH = data.loc['SWITZERLAND']\n",
    "DE = data.loc['GERMANY']\n",
    "FR = data.loc['FRANCE']\n",
    "IT = data.loc['ITALY']"
   ]
  },
  {
   "cell_type": "code",
   "execution_count": null,
   "metadata": {},
   "outputs": [],
   "source": [
    "# Look at Switzerland data\n",
    "CH"
   ]
  },
  {
   "cell_type": "code",
   "execution_count": null,
   "metadata": {},
   "outputs": [],
   "source": [
    "# There are numerous libraries for plotting and data visualisation\n",
    "# Inline means your matplotlib graphs will be included in your notebook\n",
    "%matplotlib inline\n",
    "# Runtime conguration (rc) parameters allow customization\n",
    "from matplotlib import rcParams\n",
    "# Define size of figures\n",
    "rcParams['figure.figsize'] = 15, 10"
   ]
  },
  {
   "cell_type": "code",
   "execution_count": null,
   "metadata": {},
   "outputs": [],
   "source": [
    "# Plot data for Switzerland\n",
    "CH.plot()"
   ]
  },
  {
   "cell_type": "code",
   "execution_count": null,
   "metadata": {},
   "outputs": [],
   "source": [
    "# A bar graph \n",
    "CH.plot(kind='bar')"
   ]
  },
  {
   "cell_type": "code",
   "execution_count": null,
   "metadata": {},
   "outputs": [],
   "source": [
    "# A horizontal bar graph \n",
    "CH.plot(kind='barh')"
   ]
  },
  {
   "cell_type": "code",
   "execution_count": null,
   "metadata": {},
   "outputs": [],
   "source": [
    "# From the matplot library import plotting interface pyplot \n",
    "import matplotlib.pyplot as plt"
   ]
  },
  {
   "cell_type": "code",
   "execution_count": null,
   "metadata": {},
   "outputs": [],
   "source": [
    "# Plot line graph for swiss data\n",
    "plt.plot(CH, color='darkblue', label='Switzerland')\n",
    "# Display plot - you need to add this line otherwise your plot will not be displayed\n",
    "plt.show()"
   ]
  },
  {
   "cell_type": "code",
   "execution_count": null,
   "metadata": {},
   "outputs": [],
   "source": [
    "# Plot line graph again for swiss data\n",
    "plt.plot(CH, color='darkblue', label='Switzerland')\n",
    "\n",
    "# Add title and axes labels\n",
    "plt.title('Percentage of seats held by women in national parliament')\n",
    "plt.xlabel('year')\n",
    "plt.ylabel('percentage of women')\n",
    "\n",
    "# Display plot\n",
    "plt.show()"
   ]
  },
  {
   "cell_type": "code",
   "execution_count": null,
   "metadata": {},
   "outputs": [],
   "source": [
    "# Plot trands for all four countries\n",
    "plt.plot(CH, color='darkblue', label='Switzerland')\n",
    "plt.plot(DE, color='black', label='Germany')\n",
    "plt.plot(FR, color='darkred', label='France')\n",
    "plt.plot(IT, color='darkgreen', label='Italy')\n",
    "\n",
    "plt.title('Percentage of seats held by women in national parliament', fontsize=20)\n",
    "plt.xlabel('year', fontsize=15)\n",
    "plt.ylabel('percentage of women', fontsize=15)\n",
    "\n",
    "# Add legend\n",
    "plt.legend(loc=\"lower right\",fontsize=15)\n",
    "plt.show()"
   ]
  },
  {
   "cell_type": "code",
   "execution_count": null,
   "metadata": {},
   "outputs": [],
   "source": []
  },
  {
   "cell_type": "code",
   "execution_count": null,
   "metadata": {},
   "outputs": [],
   "source": []
  }
 ],
 "metadata": {
  "kernelspec": {
   "display_name": "Python 3",
   "language": "python",
   "name": "python3"
  },
  "language_info": {
   "codemirror_mode": {
    "name": "ipython",
    "version": 3
   },
   "file_extension": ".py",
   "mimetype": "text/x-python",
   "name": "python",
   "nbconvert_exporter": "python",
   "pygments_lexer": "ipython3",
   "version": "3.6.4"
  }
 },
 "nbformat": 4,
 "nbformat_minor": 2
}
