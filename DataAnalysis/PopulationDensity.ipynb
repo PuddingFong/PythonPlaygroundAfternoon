{
 "cells": [
  {
   "cell_type": "markdown",
   "metadata": {},
   "source": [
    "# Population density\n",
    "\n",
    "Population density calculated as midyear population divided by land area in square kilometers\n",
    "[Source: World Bank] \n",
    "\n",
    "File: Data/PopulationDensity.csv"
   ]
  },
  {
   "cell_type": "code",
   "execution_count": null,
   "metadata": {},
   "outputs": [],
   "source": [
    "# Pandas is an open source library providing easy-to-use data structures and data analysis tools for Python.\n",
    "# Import library\n",
    "import pandas as pd"
   ]
  },
  {
   "cell_type": "code",
   "execution_count": null,
   "metadata": {},
   "outputs": [],
   "source": [
    "# File in Data folder, in comma separted values(csv) format\n",
    "file = \"Data/PopulationDensity.csv\"\n",
    "# Read data from file\n",
    "data = pd.read_csv(file)"
   ]
  },
  {
   "cell_type": "code",
   "execution_count": null,
   "metadata": {},
   "outputs": [],
   "source": [
    "# Look at first few entries in data (head of file)\n",
    "data.head()"
   ]
  },
  {
   "cell_type": "code",
   "execution_count": null,
   "metadata": {},
   "outputs": [],
   "source": [
    "# Set country as index\n",
    "data.set_index('Country name', inplace=True)"
   ]
  },
  {
   "cell_type": "code",
   "execution_count": null,
   "metadata": {},
   "outputs": [],
   "source": [
    "# Sort the data to ascending date order\n",
    "data_sort = data.sort_index(axis=1 ,ascending=True)"
   ]
  },
  {
   "cell_type": "code",
   "execution_count": null,
   "metadata": {},
   "outputs": [],
   "source": [
    "# Look again at first few entries\n",
    "data_sort.head()"
   ]
  },
  {
   "cell_type": "code",
   "execution_count": null,
   "metadata": {},
   "outputs": [],
   "source": [
    "# Select data according to country\n",
    "CH = data_sort.loc['SWITZERLAND']\n",
    "DE = data_sort.loc['GERMANY']\n",
    "FR = data_sort.loc['FRANCE']\n",
    "IT = data_sort.loc['ITALY']"
   ]
  },
  {
   "cell_type": "code",
   "execution_count": null,
   "metadata": {},
   "outputs": [],
   "source": [
    "# There are numerous libraries for plotting and data visualisation\n",
    "# Inline means your matplotlib graphs will be included in your notebook\n",
    "%matplotlib inline\n",
    "# Runtime conguration (rc) parameters allow customization\n",
    "from matplotlib import rcParams\n",
    "# Define size of plot\n",
    "rcParams['figure.figsize'] = 15, 8"
   ]
  },
  {
   "cell_type": "code",
   "execution_count": null,
   "metadata": {},
   "outputs": [],
   "source": [
    "CH.plot()"
   ]
  },
  {
   "cell_type": "code",
   "execution_count": null,
   "metadata": {},
   "outputs": [],
   "source": [
    "# Import plotting libraries\n",
    "import matplotlib.pyplot as plt"
   ]
  },
  {
   "cell_type": "code",
   "execution_count": null,
   "metadata": {},
   "outputs": [],
   "source": [
    "# Plot trends for all four countries\n",
    "plt.plot(CH, color='darkblue', label='Switzerland')\n",
    "plt.plot(DE, color='orange', label='Germany')\n",
    "plt.plot(FR, color='darkred', label='France')\n",
    "plt.plot(IT, color='darkgreen', label='Italy')\n",
    "\n",
    "plt.title('Popoultaion density', fontsize=20)\n",
    "plt.xlabel('year', fontsize=15)\n",
    "plt.ylabel('Popoultaion density', fontsize=15)\n",
    "\n",
    "\n",
    "plt.legend(loc=\"lower right\", fontsize=15)\n",
    "plt.show()"
   ]
  },
  {
   "cell_type": "code",
   "execution_count": null,
   "metadata": {},
   "outputs": [],
   "source": [
    "# The x-axis years are not clear. We will define the tick marks for the x-axis (xticks) \n",
    "\n",
    "# Plot trands for all four countries\n",
    "plt.plot(DE, color='orange', label='Germany',linewidth=2.0)\n",
    "plt.plot(IT, color='darkgreen', label='Italy',linewidth=2.0)\n",
    "plt.plot(CH, color='darkblue', label='Switzerland',linewidth=2.0)\n",
    "plt.plot(FR, color='darkred', label='France', linewidth=2.0)\n",
    "\n",
    "plt.title('Popoultaion density: midyear population divided by land area in square kilometers', fontsize=20)\n",
    "plt.xlabel('year', fontsize=15)\n",
    "plt.ylabel('Popoultaion density', fontsize=15)\n",
    "\n",
    "plt.legend(loc=\"lower right\", fontsize=15)\n",
    "\n",
    "# Define which x-axis year labels to write and what to write \n",
    "plt.xticks((1970, 1980, 1990, 2000, 2010), ('1970', '1980', '1990', '2000', '2010'))\n",
    "\n",
    "plt.show()\n"
   ]
  },
  {
   "cell_type": "code",
   "execution_count": null,
   "metadata": {},
   "outputs": [],
   "source": []
  },
  {
   "cell_type": "code",
   "execution_count": null,
   "metadata": {},
   "outputs": [],
   "source": []
  },
  {
   "cell_type": "code",
   "execution_count": null,
   "metadata": {},
   "outputs": [],
   "source": []
  },
  {
   "cell_type": "code",
   "execution_count": null,
   "metadata": {},
   "outputs": [],
   "source": []
  }
 ],
 "metadata": {
  "kernelspec": {
   "display_name": "Python 3",
   "language": "python",
   "name": "python3"
  },
  "language_info": {
   "codemirror_mode": {
    "name": "ipython",
    "version": 3
   },
   "file_extension": ".py",
   "mimetype": "text/x-python",
   "name": "python",
   "nbconvert_exporter": "python",
   "pygments_lexer": "ipython3",
   "version": "3.6.4"
  }
 },
 "nbformat": 4,
 "nbformat_minor": 2
}
