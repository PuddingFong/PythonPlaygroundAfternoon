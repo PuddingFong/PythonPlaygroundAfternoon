{
 "cells": [
  {
   "cell_type": "markdown",
   "metadata": {
    "slideshow": {
     "slide_type": "slide"
    }
   },
   "source": [
    "# Swiss airports\n",
    "\n",
    "Data taken from\n",
    "https://data.humdata.org/\n",
    "\n",
    "File: Data/ch-airports.csv"
   ]
  },
  {
   "cell_type": "code",
   "execution_count": null,
   "metadata": {
    "slideshow": {
     "slide_type": "slide"
    }
   },
   "outputs": [],
   "source": [
    "# Pandas is an open source library providing easy-to-use data structures and data analysis tools for Python.\n",
    "# Import library\n",
    "import pandas as pd"
   ]
  },
  {
   "cell_type": "code",
   "execution_count": null,
   "metadata": {
    "slideshow": {
     "slide_type": "slide"
    }
   },
   "outputs": [],
   "source": [
    "# Define file name\n",
    "file = \"Data/ch-airports.csv\"\n",
    "# Read data from file of comma separted values(csv)\n",
    "data = pd.read_csv(file)"
   ]
  },
  {
   "cell_type": "code",
   "execution_count": null,
   "metadata": {
    "slideshow": {
     "slide_type": "slide"
    }
   },
   "outputs": [],
   "source": [
    "# Look at head of file\n",
    "data.head()"
   ]
  },
  {
   "cell_type": "code",
   "execution_count": null,
   "metadata": {
    "slideshow": {
     "slide_type": "subslide"
    }
   },
   "outputs": [],
   "source": [
    "# Gain descriptive statistics that summarize the central tendency of the data\n",
    "data.describe()"
   ]
  },
  {
   "cell_type": "code",
   "execution_count": null,
   "metadata": {},
   "outputs": [],
   "source": [
    "# This line probably needs to be uncommented and run once, before you proceed\n",
    "# Folium makes it easy to visualize data on an interactive map\n",
    "# It enables both the binding of data to a map for choropleth visualizations as well as creating markers on the map\n",
    "# !pip install folium"
   ]
  },
  {
   "cell_type": "code",
   "execution_count": null,
   "metadata": {
    "slideshow": {
     "slide_type": "slide"
    }
   },
   "outputs": [],
   "source": [
    "# Import library for interactive maps\n",
    "import folium"
   ]
  },
  {
   "cell_type": "code",
   "execution_count": null,
   "metadata": {
    "slideshow": {
     "slide_type": "slide"
    }
   },
   "outputs": [],
   "source": [
    "# Latitude: specifies the north–south position from 0° at the Equator to 90° (North or South) at the poles\n",
    "# Longitude: angular measurement from 0° at the Prime Meridian to +180° eastward and −180° westward\n",
    "\n",
    "# Define central lat and long for map\n",
    "central_latitude = 46.8  \n",
    "central_longitude = 8.3 \n",
    "\n",
    "# Zoom_start defines area displayed when map drawn\n",
    "map = folium.Map(location=[central_latitude, central_longitude],\n",
    "                   tiles='Mapbox Bright', zoom_start=7.5)\n",
    "# Display map    \n",
    "map"
   ]
  },
  {
   "cell_type": "code",
   "execution_count": null,
   "metadata": {},
   "outputs": [],
   "source": [
    "# Define the variable names for ease of use\n",
    "latitude = data['latitude_deg']\n",
    "longitude = data['longitude_deg']\n",
    "name  = data['name']"
   ]
  },
  {
   "cell_type": "code",
   "execution_count": null,
   "metadata": {
    "slideshow": {
     "slide_type": "slide"
    }
   },
   "outputs": [],
   "source": [
    "# Loop over airports and add marker for each location\n",
    "number_airports = len(data)\n",
    "for x in range(number_airports):    \n",
    "    folium.Marker( (latitude[x],longitude[x]), popup=name[x]).add_to(map)\n",
    "\n",
    "# Display map    \n",
    "map"
   ]
  },
  {
   "cell_type": "code",
   "execution_count": null,
   "metadata": {},
   "outputs": [],
   "source": [
    "# Use a different icon\n",
    "for x in range(number_airports):    \n",
    "    folium.Marker( (latitude[x],longitude[x]), popup=name[x],icon=folium.Icon(color='green')).add_to(map)\n",
    "map"
   ]
  },
  {
   "cell_type": "code",
   "execution_count": null,
   "metadata": {},
   "outputs": [],
   "source": [
    "# Find out the different sizes of airports - the unique values assigned\n",
    "size = data['size']\n",
    "size.unique()"
   ]
  },
  {
   "cell_type": "code",
   "execution_count": null,
   "metadata": {},
   "outputs": [],
   "source": [
    "# Colour markers differently for large, medium and small airports\n",
    "\n",
    "small  = \"small_airport\"\n",
    "medium = \"medium_airport\"\n",
    "large  = \"large_airport\"\n",
    "\n",
    "number_airports = len(data)\n",
    "\n",
    "# Loop over airports and assign colour of marker depending on size of airport\n",
    "for x in range(number_airports):    \n",
    "    if size[x] == small:\n",
    "        folium.Marker( (latitude[x],longitude[x]), popup=name[x], icon=folium.Icon(color='blue')).add_to(map)\n",
    "    elif size[x] == medium:\n",
    "        folium.Marker( (latitude[x],longitude[x]), popup=name[x], icon=folium.Icon(color='green')).add_to(map)\n",
    "    elif size[x] == large: \n",
    "        folium.Marker( (latitude[x],longitude[x]), popup=name[x], icon=folium.Icon(color='red')).add_to(map)\n",
    "map"
   ]
  },
  {
   "cell_type": "code",
   "execution_count": null,
   "metadata": {},
   "outputs": [],
   "source": []
  },
  {
   "cell_type": "code",
   "execution_count": null,
   "metadata": {},
   "outputs": [],
   "source": []
  }
 ],
 "metadata": {
  "kernelspec": {
   "display_name": "Python 3",
   "language": "python",
   "name": "python3"
  },
  "language_info": {
   "codemirror_mode": {
    "name": "ipython",
    "version": 3
   },
   "file_extension": ".py",
   "mimetype": "text/x-python",
   "name": "python",
   "nbconvert_exporter": "python",
   "pygments_lexer": "ipython3",
   "version": "3.6.4"
  }
 },
 "nbformat": 4,
 "nbformat_minor": 2
}
