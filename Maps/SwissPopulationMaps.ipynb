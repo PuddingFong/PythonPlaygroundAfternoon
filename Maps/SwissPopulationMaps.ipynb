{
 "cells": [
  {
   "cell_type": "markdown",
   "metadata": {
    "collapsed": true
   },
   "source": [
    "# Swiss Population Choropleth Maps\n",
    "\n",
    "A choropleth map (from Greek (area/region) + (multitude)) is a thematic map in which areas are shaded or patterned in proportion to the measurement of the statistical variable being displayed on the map.\n",
    "\n",
    "Choropleth maps provide an easy way to visualize how a measurement varies across a geographic area or show the level of variability within a region. \n",
    "\n",
    "File: Data/populationSwitzerland.csv"
   ]
  },
  {
   "cell_type": "code",
   "execution_count": null,
   "metadata": {},
   "outputs": [],
   "source": [
    "# Data taken from wikipedia\n",
    "file = \"Data/populationSwitzerland.csv\""
   ]
  },
  {
   "cell_type": "code",
   "execution_count": null,
   "metadata": {},
   "outputs": [],
   "source": [
    "# Pandas is an open source library providing easy-to-use data structures and data analysis tools for Python.\n",
    "# Import library\n",
    "import pandas as pd"
   ]
  },
  {
   "cell_type": "code",
   "execution_count": null,
   "metadata": {},
   "outputs": [],
   "source": [
    "# Read file\n",
    "ch_data = pd.read_csv(file)"
   ]
  },
  {
   "cell_type": "code",
   "execution_count": null,
   "metadata": {},
   "outputs": [],
   "source": [
    "# Look at head of data - first few values\n",
    "ch_data.head()"
   ]
  },
  {
   "cell_type": "code",
   "execution_count": null,
   "metadata": {},
   "outputs": [],
   "source": [
    "# Rename columns\n",
    "ch_data.columns = ['abbr','name','population','density','GDP']"
   ]
  },
  {
   "cell_type": "code",
   "execution_count": null,
   "metadata": {},
   "outputs": [],
   "source": [
    "# Sort data to take a look at population variation between cantons\n",
    "ch_data_sort = ch_data.sort_values(['population'], ascending=[False])\n",
    "ch_data_sort"
   ]
  },
  {
   "cell_type": "code",
   "execution_count": null,
   "metadata": {},
   "outputs": [],
   "source": [
    "# Summary description of data\n",
    "ch_data.describe()"
   ]
  },
  {
   "cell_type": "code",
   "execution_count": null,
   "metadata": {},
   "outputs": [],
   "source": [
    "# Rough latitude and longitude for central switzerland\n",
    "ch_central = [46.8, 8.33]"
   ]
  },
  {
   "cell_type": "code",
   "execution_count": null,
   "metadata": {},
   "outputs": [],
   "source": [
    "# Folium makes it easy to visualize data on an interactive map\n",
    "# It enables both the binding of data to a map for choropleth visualizations as well as creating markers on the map\n",
    "import folium"
   ]
  },
  {
   "cell_type": "code",
   "execution_count": null,
   "metadata": {},
   "outputs": [],
   "source": [
    "# Different tiles exist for different display types\n",
    "# Using tiles='Mapbox bright'\n",
    "map_mapbox = folium.Map(location=ch_central,\n",
    "                   tiles='Mapbox bright', zoom_start=7)\n",
    "map_mapbox"
   ]
  },
  {
   "cell_type": "code",
   "execution_count": null,
   "metadata": {},
   "outputs": [],
   "source": [
    "# Using tiles 'Mapbox Control Room'\n",
    "map_controlroom = folium.Map(location=ch_central,\n",
    "                   tiles='Mapbox Control Room', zoom_start=7)\n",
    "map_controlroom"
   ]
  },
  {
   "cell_type": "code",
   "execution_count": null,
   "metadata": {},
   "outputs": [],
   "source": [
    "# Using tiles 'Stamen Toner'\n",
    "map_stamen = folium.Map(location=ch_central,\n",
    "                   tiles='Stamen Toner', zoom_start=7)\n",
    "map_stamen"
   ]
  },
  {
   "cell_type": "code",
   "execution_count": null,
   "metadata": {},
   "outputs": [],
   "source": [
    "# Using tiles 'OpenStreetMap'\n",
    "map_openstreet = folium.Map(location=ch_central, \n",
    "                 tiles = 'OpenStreetMap', zoom_start=7)\n",
    "map_openstreet"
   ]
  },
  {
   "cell_type": "code",
   "execution_count": null,
   "metadata": {},
   "outputs": [],
   "source": [
    "# Import json library : JSON (JavaScript Object Notation)\n",
    "import json"
   ]
  },
  {
   "cell_type": "code",
   "execution_count": null,
   "metadata": {},
   "outputs": [],
   "source": [
    "# geojson file contains information regards swiss canton geographies\n",
    "with open('Data/switzerland.geojson') as file:\n",
    "    data = json.load(file)"
   ]
  },
  {
   "cell_type": "code",
   "execution_count": null,
   "metadata": {},
   "outputs": [],
   "source": [
    "# Draw map with tiles option\n",
    "myTilesChoice = 'OpenStreetMap'\n",
    "map = folium.Map(location=ch_central, tiles = myTilesChoice, zoom_start=7.45)\n",
    "\n",
    "map.choropleth(geo_data='Data/switzerland.geojson', \n",
    "             data=ch_data,\n",
    "             columns=['name', 'population'],\n",
    "             key_on='feature.properties.name',\n",
    "             threshold_scale=[0, 75, 250, 400, 1000, 1500],\n",
    "             fill_color='BuPu',\n",
    "             fill_opacity=0.7,\n",
    "             line_opacity=0.2,\n",
    "             highlight=True)\n",
    "map"
   ]
  },
  {
   "cell_type": "code",
   "execution_count": null,
   "metadata": {},
   "outputs": [],
   "source": []
  },
  {
   "cell_type": "code",
   "execution_count": null,
   "metadata": {},
   "outputs": [],
   "source": [
    "# Use different tiling and different fill_color\n",
    "myTilesChoice ='Stamen Toner'\n",
    "map2 = folium.Map(location=ch_central, tiles = myTilesChoice, zoom_start=7)\n",
    "\n",
    "map2.choropleth(geo_data='Data/switzerland.geojson',     \n",
    "            name = 'choropleth population',    \n",
    "            data=ch_data,\n",
    "            columns=['name', 'population'],\n",
    "            key_on='feature.properties.name',\n",
    "            threshold_scale=[0, 75, 250, 400, 1000, 1500],\n",
    "            #fill_color='YlGn',\n",
    "            fill_color='PuBuGn',\n",
    "            #fill_color='Spectral',    \n",
    "            fill_opacity=0.7,\n",
    "            line_opacity=0.2,\n",
    "            highlight=True)\n",
    "folium.LayerControl().add_to(map2)\n",
    "map2"
   ]
  },
  {
   "cell_type": "code",
   "execution_count": null,
   "metadata": {},
   "outputs": [],
   "source": [
    "# Try changing different variables and noting effect\n",
    "# eg\n",
    "# zoom_start\n",
    "# tiles (variable myTilesChoice)\n",
    "# fill_color (color brewer code) eg RdYlBu, YlGnBu, \n",
    "# threshold_scale\n",
    "\n",
    "# try creating apopulation density choropleth map and GDP choropleth map\n",
    "# remember to change the threshold_scale to an appropriate scale"
   ]
  },
  {
   "cell_type": "code",
   "execution_count": null,
   "metadata": {},
   "outputs": [],
   "source": [
    "# Population density\n",
    "# Use different tiling and different fill_color\n",
    "myTilesChoice ='Stamen Toner'\n",
    "map2 = folium.Map(location=ch_central, tiles = myTilesChoice, zoom_start=7)\n",
    "\n",
    "map2.choropleth(geo_data='Data/switzerland.geojson',     \n",
    "            name = 'choropleth density',    \n",
    "            data=ch_data,\n",
    "            columns=['name', 'density'],\n",
    "            key_on='feature.properties.name',\n",
    "            threshold_scale=[0,100, 250, 500, 2500, 5000],\n",
    "            fill_color='YlGnBu', \n",
    "            fill_opacity=0.7,\n",
    "            line_opacity=0.2,\n",
    "            highlight=True)\n",
    "folium.LayerControl().add_to(map2)\n",
    "map2"
   ]
  },
  {
   "cell_type": "code",
   "execution_count": null,
   "metadata": {},
   "outputs": [],
   "source": [
    "# GDP\n",
    "# Use different tiling and different fill_color\n",
    "myTilesChoice ='Stamen Toner'\n",
    "map2 = folium.Map(location=ch_central, tiles = myTilesChoice, zoom_start=7)\n",
    "\n",
    "map2.choropleth(geo_data='Data/switzerland.geojson',     \n",
    "            name = 'choropleth GDP',    \n",
    "            data=ch_data,\n",
    "            columns=['name', 'GDP'],\n",
    "            key_on='feature.properties.name',\n",
    "            threshold_scale=[50000,75000, 100000, 125000, 150000],\n",
    "            fill_color='YlGnBu', \n",
    "            fill_opacity=0.7,\n",
    "            line_opacity=0.2,\n",
    "            highlight=True)\n",
    "folium.LayerControl().add_to(map2)\n",
    "map2"
   ]
  },
  {
   "cell_type": "code",
   "execution_count": null,
   "metadata": {},
   "outputs": [],
   "source": []
  },
  {
   "cell_type": "code",
   "execution_count": null,
   "metadata": {},
   "outputs": [],
   "source": []
  },
  {
   "cell_type": "code",
   "execution_count": null,
   "metadata": {},
   "outputs": [],
   "source": []
  }
 ],
 "metadata": {
  "kernelspec": {
   "display_name": "Python 3",
   "language": "python",
   "name": "python3"
  },
  "language_info": {
   "codemirror_mode": {
    "name": "ipython",
    "version": 3
   },
   "file_extension": ".py",
   "mimetype": "text/x-python",
   "name": "python",
   "nbconvert_exporter": "python",
   "pygments_lexer": "ipython3",
   "version": "3.6.4"
  }
 },
 "nbformat": 4,
 "nbformat_minor": 2
}
