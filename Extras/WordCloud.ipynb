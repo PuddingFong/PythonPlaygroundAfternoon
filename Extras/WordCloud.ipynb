{
 "cells": [
  {
   "cell_type": "code",
   "execution_count": null,
   "metadata": {},
   "outputs": [],
   "source": [
    "# Python program to create a word cloud\n",
    "# The current text is taken from the Python Playground Hands-on Data Workshop publicity\n",
    "# Feel free to enter your own text to create your own word cloud"
   ]
  },
  {
   "cell_type": "code",
   "execution_count": null,
   "metadata": {},
   "outputs": [],
   "source": [
    "# This line needs to be run once\n",
    "# Wait for installation process to complete\n",
    "!pip install wordcloud"
   ]
  },
  {
   "cell_type": "code",
   "execution_count": null,
   "metadata": {},
   "outputs": [],
   "source": [
    "# Libraries to inport\n",
    "from wordcloud import WordCloud\n",
    "import matplotlib.pyplot as plt\n",
    "import numpy as np\n",
    "from PIL import Image    # to import the image "
   ]
  },
  {
   "cell_type": "code",
   "execution_count": null,
   "metadata": {},
   "outputs": [],
   "source": [
    "# Python Playground workshop text. Please change to your own text\n",
    "text=(\"Python is becoming the go-to tool for data scientist across all industries. This beginner-level workshop is aimed at those with no experience in programming or data analysis, but who want to get started with this powerful, easy-to-learn language. You will participate in hands-on activities, such as plotting basic graphs, and will become familiar with essential terms and concepts used in computing and data science.You will need to install Python to be able to participate in this workshop. We'll send you an e-mail with instructions after you register, if you'd like to try to install it prior to coming to the event, but we'll also walk through the installation process as part of the workshop. Before you come, please be sure you have the correct administrator rights on your laptop to allow you to do this.\")"
   ]
  },
  {
   "cell_type": "code",
   "execution_count": null,
   "metadata": {},
   "outputs": [],
   "source": [
    "# This image is used as a base for the word cloud. Change the imaage or perhaps use one of your own\n",
    "# Make sure the path to the image file is correct.\n",
    "# image = np.array(Image.open( \"Images/logo.jpg\")) \n",
    "image = np.array(Image.open( \"Images/sunflowers.jpg\")) "
   ]
  },
  {
   "cell_type": "code",
   "execution_count": null,
   "metadata": {},
   "outputs": [],
   "source": [
    "# Define runtime configuration (rc) parameters \n",
    "from matplotlib import rcParams\n",
    "rcParams['figure.figsize'] = 20, 10"
   ]
  },
  {
   "cell_type": "code",
   "execution_count": null,
   "metadata": {},
   "outputs": [],
   "source": [
    "# Make the figure\n",
    "wordcloud = WordCloud(mask=image).generate(text)\n",
    "plt.figure()\n",
    "plt.imshow(wordcloud, interpolation=\"bilinear\")\n",
    "plt.axis(\"off\")\n",
    "plt.margins(x=0, y=0)\n",
    "\n",
    "# Save wordcloud as png file\n",
    "plt.savefig('wordcloud.png')\n",
    "\n",
    "# Display wordcloud\n",
    "plt.show()\n"
   ]
  },
  {
   "cell_type": "code",
   "execution_count": null,
   "metadata": {},
   "outputs": [],
   "source": []
  },
  {
   "cell_type": "code",
   "execution_count": null,
   "metadata": {},
   "outputs": [],
   "source": []
  }
 ],
 "metadata": {
  "kernelspec": {
   "display_name": "Python 3",
   "language": "python",
   "name": "python3"
  },
  "language_info": {
   "codemirror_mode": {
    "name": "ipython",
    "version": 3
   },
   "file_extension": ".py",
   "mimetype": "text/x-python",
   "name": "python",
   "nbconvert_exporter": "python",
   "pygments_lexer": "ipython3",
   "version": "3.6.4"
  }
 },
 "nbformat": 4,
 "nbformat_minor": 2
}
